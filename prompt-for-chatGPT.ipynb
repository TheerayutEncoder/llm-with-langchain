{
 "cells": [
  {
   "attachments": {},
   "cell_type": "markdown",
   "metadata": {},
   "source": [
    "# How to write ChatGPT Prompt !!!\n",
    "\n",
    "Enhance you workday with chatGPT"
   ]
  },
  {
   "cell_type": "code",
   "execution_count": 3,
   "metadata": {},
   "outputs": [],
   "source": [
    "# Import library\n",
    "import openai\n",
    "import os\n",
    "from dotenv import load_dotenv\n"
   ]
  },
  {
   "cell_type": "code",
   "execution_count": 4,
   "metadata": {},
   "outputs": [],
   "source": [
    "load_dotenv()\n",
    "\n",
    "# Accessing the OPENAI KEY\n",
    "openai.api_key = os.getenv(\"OPENAI_API_KEY\")"
   ]
  },
  {
   "cell_type": "code",
   "execution_count": 64,
   "metadata": {},
   "outputs": [],
   "source": [
    "# Function to create response from OpenAI model\n",
    "def get_completion(prompt):\n",
    "    response = openai.Completion.create(\n",
    "    model=\"text-davinci-003\",\n",
    "    prompt=prompt,\n",
    "    temperature=0,\n",
    "    max_tokens=300,\n",
    "    )\n",
    "\n",
    "    return response[\"choices\"][0][\"text\"]"
   ]
  },
  {
   "attachments": {},
   "cell_type": "markdown",
   "metadata": {},
   "source": [
    "## Some Technique for Prompting"
   ]
  },
  {
   "attachments": {},
   "cell_type": "markdown",
   "metadata": {},
   "source": [
    "**Example 1** Try to use delimiters: \"\"\", ''', ---, < >, <tag> </tag> \n",
    "\n",
    "Try to write it clear and specific instructions"
   ]
  },
  {
   "cell_type": "code",
   "execution_count": 40,
   "metadata": {},
   "outputs": [
    {
     "name": "stdout",
     "output_type": "stream",
     "text": [
      "\n",
      "            I will provide you a name of animal delimited by tripple backtick. \n",
      "        Your task is describe it in 3 sentences.\n",
      "        Return following this format:\n",
      "\n",
      "        Name: ```Cat```\n",
      "        Description:\n",
      "         - Your description number 1\n",
      "         - Your description number 2\n",
      "         - Your description number 3\n",
      "        \n"
     ]
    }
   ],
   "source": [
    "\n",
    "prompt = \"\"\"\n",
    "            I will provide you a name of animal delimited by tripple backtick. \n",
    "        Your task is describe it in 3 sentences.\n",
    "        Return following this format:\n",
    "\n",
    "        Name: ```{animal}```\n",
    "        Description:\n",
    "         - Your description number 1\n",
    "         - Your description number 2\n",
    "         - Your description number 3\n",
    "        \"\"\"\n",
    "\n",
    "prompt=prompt.format(animal=\"Cat\")\n",
    "print(prompt)\n",
    "  "
   ]
  },
  {
   "cell_type": "code",
   "execution_count": 41,
   "metadata": {},
   "outputs": [
    {
     "name": "stdout",
     "output_type": "stream",
     "text": [
      "\n",
      "        Answer: Name: ```Cat```\n",
      "        Description:\n",
      "         - Cats are small, furry mammals with sharp claws and whiskers.\n",
      "         - They are known for their playful personalities and their ability to hunt small rodents.\n",
      "         - Cats come in a variety of colors and sizes, and are one of the most popular pets in the world.\n"
     ]
    }
   ],
   "source": [
    "response = get_completion(prompt)\n",
    "print(response)"
   ]
  },
  {
   "attachments": {},
   "cell_type": "markdown",
   "metadata": {},
   "source": [
    "**Example 2** Understand sentiment analysis"
   ]
  },
  {
   "cell_type": "code",
   "execution_count": 42,
   "metadata": {},
   "outputs": [],
   "source": [
    "# Ask chatGPT for a random review about Avatar 1 movie. \n",
    "\"\"\"\n",
    "Example prompt for chatGPT:\n",
    "\n",
    "    Hi, chatGPT Can you provide a random review about Avatar 1 movie. \n",
    "    Give me 10 reviews and return as a list in python.\n",
    "\n",
    "\"\"\"\n",
    "reviews = [\n",
    "    \"Avatar is an absolute masterpiece! The visuals are breathtaking, the storyline is captivating, and the world-building is incredible. A must-watch for any sci-fi fan.\",\n",
    "    \"I was blown away by Avatar! The 3D effects were mind-blowing, and the movie transported me to a whole new world. James Cameron's vision is truly remarkable.\",\n",
    "    \"Avatar is a visual spectacle. The CGI is seamless, and the movie is a feast for the eyes. The story may not be groundbreaking, but it's still an enjoyable ride.\",\n",
    "    \"I found Avatar to be overrated. The special effects are impressive, but the characters and plot felt generic. It didn't live up to the hype for me.\",\n",
    "    \"Avatar is an immersive cinematic experience. The attention to detail is astounding, and the world of Pandora feels incredibly real. A must-see on the big screen.\",\n",
    "    \"James Cameron did it again with Avatar! The movie is a technical marvel, and the action sequences are exhilarating. It's a true spectacle that shouldn't be missed.\",\n",
    "    \"Avatar is a visual feast, but the story lacked depth. The movie relies heavily on its stunning visuals, but the characters felt underdeveloped and the plot was predictable.\",\n",
    "    \"I was blown away by the beauty of Avatar. The lush landscapes and vibrant colors make it a visual treat. The story may not be groundbreaking, but it's still worth watching.\",\n",
    "    \"Avatar is a groundbreaking achievement in filmmaking. James Cameron pushed the boundaries of technology to create a truly immersive experience. It's a must-watch for any movie lover.\",\n",
    "    \"I didn't understand the hype around Avatar. The visuals were impressive, but the story felt clichéd and the dialogue was weak. It didn't leave a lasting impression on me.\"\n",
    "]\n"
   ]
  },
  {
   "cell_type": "code",
   "execution_count": 55,
   "metadata": {},
   "outputs": [
    {
     "name": "stdout",
     "output_type": "stream",
     "text": [
      "0 \n",
      "    {\n",
      "        'Summary': 'Absolute masterpiece, captivating, incredible',\n",
      "        'Sentiment': 'Positive'\n",
      "    } \n",
      "\n",
      "1 \n",
      "    {\n",
      "        \"Summary\": \"Mind-blowing 3D effects, remarkable vision\",\n",
      "        \"Sentiment\": \"Positive\"\n",
      "    } \n",
      "\n",
      "2 \n",
      "    {\n",
      "        'Summary': 'Visual spectacle, CGI seamless, enjoyable ride',\n",
      "        'Sentiment': 'Positive'\n",
      "    } \n",
      "\n",
      "3 \n",
      "    {\n",
      "        \"Summary\": \"Overrated, generic characters/plot\",\n",
      "        \"Sentiment\": \"Negative\"\n",
      "    } \n",
      "\n",
      "4 \n",
      "    {\n",
      "        \"Summary\": \"Immersive cinematic experience; astounding detail; must-see\",\n",
      "        \"Sentiment\": \"Positive\"\n",
      "    } \n",
      "\n",
      "5 \n",
      "    {\n",
      "        'Summary': 'James Cameron's Avatar is a technical marvel',\n",
      "        'Sentiment': 'Positive'\n",
      "    } \n",
      "\n",
      "6 \n",
      "    {\n",
      "        \"Summary\": \"Visual feast, but shallow story\",\n",
      "        \"Sentiment\": \"Negative\"\n",
      "    } \n",
      "\n",
      "7 \n",
      "    {\n",
      "        \"Summary\": \"Visual treat with worth watching story\",\n",
      "        \"Sentiment\": \"Positive\"\n",
      "    } \n",
      "\n",
      "8 \n",
      "    {\n",
      "        \"Summary\": \"Groundbreaking achievement in filmmaking\",\n",
      "        \"Sentiment\": \"Positive\"\n",
      "    } \n",
      "\n",
      "9 \n",
      "    {\n",
      "        \"Summary\": \"Visuals impressive, story clichéd, dialogue weak.\",\n",
      "        \"Sentiment\": \"Negative\"\n",
      "    } \n",
      "\n"
     ]
    }
   ],
   "source": [
    "for i, review in enumerate(reviews):\n",
    "    prompt = f\"\"\"\n",
    "    Your task is to generate a short summary of movie reviews. \\\n",
    "    And analyze the sentiment of review, it is positive, natural or negative. \n",
    "\n",
    "\n",
    "    Summarize the review below, delimited by triple backtick in at most 10 words.\n",
    "\n",
    "    ```{review}``` \n",
    "\n",
    "    Return in JSON format following by key ('Summary', 'sentiment')\n",
    "    \"\"\"\n",
    "\n",
    "    response = get_completion(prompt)\n",
    "    print(i, response, \"\\n\")"
   ]
  },
  {
   "attachments": {},
   "cell_type": "markdown",
   "metadata": {},
   "source": [
    "**Example 3** Extract data and ask for a structured output -> JSON/HTML"
   ]
  },
  {
   "cell_type": "code",
   "execution_count": 67,
   "metadata": {},
   "outputs": [
    {
     "name": "stdout",
     "output_type": "stream",
     "text": [
      "\n",
      "{\n",
      "  order: {\n",
      "    total price: 32.64,\n",
      "    customer name: Emily,\n",
      "    product: [\n",
      "      {\n",
      "        name: chips,\n",
      "        amount: 3,\n",
      "        price: 2.99\n",
      "      },\n",
      "      {\n",
      "        name: soda,\n",
      "        amount: 2,\n",
      "        price: 1.50\n",
      "      },\n",
      "      {\n",
      "        name: cookies,\n",
      "        amount: 1,\n",
      "        price: 3.49\n",
      "      },\n",
      "      {\n",
      "        name: apples,\n",
      "        amount: 1,\n",
      "        price: 4.99\n",
      "      },\n",
      "      {\n",
      "        name: peanut butter,\n",
      "        amount: 1,\n",
      "        price: 2.79\n",
      "      }\n",
      "    ]\n",
      "  }\n",
      "}\n"
     ]
    }
   ],
   "source": [
    "# Ask chatGPT for provide random product, amount and price\n",
    "\"\"\"\n",
    "    - I want you to provide the sentence which customer buying random 7 products with amount and price.\n",
    "    - Random a customer name too.\n",
    "\"\"\"\n",
    "order = \"\"\"\n",
    "Emily, the customer, purchased seven products: 3 packs of chips for $2.99 each, \\\n",
    "2 bottles of soda for $1.50 each, a box of cookies for $3.49, \\\n",
    "a bag of apples for $4.99, and a jar of peanut butter for $2.79\n",
    "\"\"\"\n",
    "\n",
    "prompt = f\"\"\"\n",
    "Extract customer name and products details and calculate total price from the purchase order below delimited by tripple backtick.\n",
    "total price = summation of amount * price\n",
    "\n",
    "```{order}```\n",
    "\n",
    "Return in JSON format with this structure:\n",
    "{{\n",
    "order:\n",
    "  total price:\n",
    "  customer name:\n",
    "  product:\n",
    "    name:\n",
    "    amount:\n",
    "    price: price per unit\n",
    "}}\n",
    "\"\"\"\n",
    "\n",
    "response = get_completion(prompt)\n",
    "print(response)"
   ]
  },
  {
   "cell_type": "code",
   "execution_count": 68,
   "metadata": {},
   "outputs": [
    {
     "name": "stdout",
     "output_type": "stream",
     "text": [
      "\n",
      "<h1>Resturant Employees</h1>\n",
      "<table>\n",
      "  <tr>\n",
      "    <th>Name</th>\n",
      "    <th>Email</th>\n",
      "  </tr>\n",
      "  <tr>\n",
      "    <td>Shyam</td>\n",
      "    <td>shyamjaiswal@gmail.com</td>\n",
      "  </tr>\n",
      "  <tr>\n",
      "    <td>Bob</td>\n",
      "    <td>bob32@gmail.com</td>\n",
      "  </tr>\n",
      "  <tr>\n",
      "    <td>Jai</td>\n",
      "    <td>jai87@gmail.com</td>\n",
      "  </tr>\n",
      "</table>\n"
     ]
    }
   ],
   "source": [
    "data_json = { \"resturant employees\" :[ \n",
    "    {\"name\":\"Shyam\", \"email\":\"shyamjaiswal@gmail.com\"},\n",
    "    {\"name\":\"Bob\", \"email\":\"bob32@gmail.com\"},\n",
    "    {\"name\":\"Jai\", \"email\":\"jai87@gmail.com\"}\n",
    "]}\n",
    "\n",
    "prompt = f\"\"\"\n",
    "Translate the following python dictionary from JSON to an HTML \\\n",
    "table with column headers and title: {data_json}\n",
    "\"\"\"\n",
    "response = get_completion(prompt)\n",
    "print(response)"
   ]
  },
  {
   "cell_type": "code",
   "execution_count": 69,
   "metadata": {},
   "outputs": [
    {
     "data": {
      "text/html": [
       "\n",
       "<h1>Resturant Employees</h1>\n",
       "<table>\n",
       "  <tr>\n",
       "    <th>Name</th>\n",
       "    <th>Email</th>\n",
       "  </tr>\n",
       "  <tr>\n",
       "    <td>Shyam</td>\n",
       "    <td>shyamjaiswal@gmail.com</td>\n",
       "  </tr>\n",
       "  <tr>\n",
       "    <td>Bob</td>\n",
       "    <td>bob32@gmail.com</td>\n",
       "  </tr>\n",
       "  <tr>\n",
       "    <td>Jai</td>\n",
       "    <td>jai87@gmail.com</td>\n",
       "  </tr>\n",
       "</table>"
      ],
      "text/plain": [
       "<IPython.core.display.HTML object>"
      ]
     },
     "metadata": {},
     "output_type": "display_data"
    }
   ],
   "source": [
    "from IPython.display import display, Markdown, Latex, HTML, JSON\n",
    "display(HTML(response))"
   ]
  }
 ],
 "metadata": {
  "kernelspec": {
   "display_name": "Python 3",
   "language": "python",
   "name": "python3"
  },
  "language_info": {
   "codemirror_mode": {
    "name": "ipython",
    "version": 3
   },
   "file_extension": ".py",
   "mimetype": "text/x-python",
   "name": "python",
   "nbconvert_exporter": "python",
   "pygments_lexer": "ipython3",
   "version": "3.10.6"
  },
  "orig_nbformat": 4
 },
 "nbformat": 4,
 "nbformat_minor": 2
}
